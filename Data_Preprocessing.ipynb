{
  "cells": [
    {
      "cell_type": "markdown",
      "metadata": {
        "id": "iIDXUkMElkDd"
      },
      "source": [
        "# Data Preprocessing"
      ]
    },
    {
      "cell_type": "markdown",
      "metadata": {
        "id": "Hj40LjUilpix"
      },
      "source": [
        "## Importing the libraries"
      ]
    },
    {
      "cell_type": "code",
      "execution_count": 3,
      "metadata": {
        "id": "BgxwONvEu8Oi"
      },
      "outputs": [],
      "source": [
        "import numpy as np\n",
        "import matplotlib.pyplot as plt\n",
        "import pandas as pd"
      ]
    },
    {
      "cell_type": "code",
      "execution_count": 3,
      "metadata": {},
      "outputs": [],
      "source": [
        "#%pip install matplotlib"
      ]
    },
    {
      "cell_type": "markdown",
      "metadata": {
        "id": "zApSnwUkl9eD"
      },
      "source": [
        "## Importing Dataset"
      ]
    },
    {
      "cell_type": "code",
      "execution_count": 5,
      "metadata": {},
      "outputs": [],
      "source": [
        "data_set = pd.read_csv('Covid_data.csv')\n",
        "X = data_set.iloc[: , :-1].values\n",
        "y = data_set.iloc[: , -1].values"
      ]
    },
    {
      "cell_type": "code",
      "execution_count": 5,
      "metadata": {},
      "outputs": [
        {
          "data": {
            "text/plain": [
              "array([[10.0, 'Normal', 'no', 'no', 97.0],\n",
              "       [12.0, 'Normal', 'no', 'no', 97.0],\n",
              "       [15.0, 'Normal', 'no', 'no', 94.0],\n",
              "       [10.0, 'Normal', 'no', 'no', 97.0],\n",
              "       [13.0, 'Moderate', 'no', 'no', 94.0],\n",
              "       [12.0, 'Moderate', 'no', 'no', 97.0],\n",
              "       [13.0, 'Moderate', 'no', 'no', 93.0],\n",
              "       [15.0, 'Moderate', 'no', 'no', 92.0],\n",
              "       [18.0, 'Moderate', 'no', 'no', 66.0],\n",
              "       [19.0, 'Normal', 'no', 'no', 92.0],\n",
              "       [20.0, 'Normal', 'no', 'no', 93.0],\n",
              "       [17.0, 'Normal', 'no', 'no', 93.0],\n",
              "       [16.0, 'Normal', 'no', 'no', 92.0],\n",
              "       [18.0, 'Normal', 'no', 'no', 93.0],\n",
              "       [20.0, 'Normal', 'no', 'no', 92.0],\n",
              "       [25.0, 'Moderate', 'no', 'no', 93.0],\n",
              "       [24.0, 'Moderate', 'no', 'no', 92.0],\n",
              "       [26.0, 'High', 'no', 'no', 94.0],\n",
              "       [28.0, 'Normal', 'no', 'no', 99.0],\n",
              "       [29.0, 'Normal', 'no', 'no', 93.0],\n",
              "       [30.0, 'Moderate', 'no', 'no', 62.0],\n",
              "       [19.0, 'Normal', 'no', 'no', 89.0],\n",
              "       [25.0, 'Normal', 'no', 'yes', 86.0],\n",
              "       [26.0, 'Normal', 'no', 'no', nan],\n",
              "       [28.0, 'Normal', 'no', 'no', 89.0],\n",
              "       [30.0, 'Moderate', 'yes', 'no', 86.0],\n",
              "       [35.0, 'Moderate', 'no', 'no', 89.0],\n",
              "       [32.0, 'Moderate', 'no', 'yes', 84.0],\n",
              "       [nan, 'Moderate', 'yes', 'no', 90.0],\n",
              "       [32.0, 'Moderate', 'no', 'no', 89.0],\n",
              "       [35.0, 'Moderate', 'no', 'yes', 92.0],\n",
              "       [38.0, 'High', 'no', 'no', 75.0],\n",
              "       [40.0, 'Moderate', 'no', 'yes', 90.0],\n",
              "       [46.0, 'High', 'yes', 'no', 91.0],\n",
              "       [48.0, 'Moderate', 'no', 'yes', 93.0],\n",
              "       [42.0, 'High', 'no', 'no', 92.0],\n",
              "       [40.0, 'High', 'no', 'no', 92.0],\n",
              "       [49.0, 'Moderate', 'no', 'no', 80.0],\n",
              "       [50.0, 'High', 'yes', 'yes', 77.0],\n",
              "       [36.0, 'High', 'yes', 'no', 90.0],\n",
              "       [52.0, 'High', 'yes', 'yes', 80.0],\n",
              "       [56.0, 'High', 'yes', 'yes', 77.0],\n",
              "       [58.0, 'High', 'no', 'no', 70.0],\n",
              "       [59.0, 'High', 'no', 'yes', 69.0],\n",
              "       [60.0, 'High', 'yes', 'yes', 68.0],\n",
              "       [53.0, 'High', 'yes', 'no', 55.0],\n",
              "       [54.0, 'High', 'yes', 'yes', 70.0],\n",
              "       [62.0, 'High', 'yes', 'yes', 68.0],\n",
              "       [63.0, 'High', 'yes', 'yes', 66.0],\n",
              "       [68.0, 'High', 'yes', 'no', 67.0],\n",
              "       [69.0, 'High', 'no', 'yes', 53.0],\n",
              "       [64.0, 'High', 'yes', 'yes', 73.0],\n",
              "       [61.0, 'High', 'yes', 'yes', 76.0],\n",
              "       [70.0, 'Normal', 'no', 'yes', 88.0],\n",
              "       [59.0, 'High', 'yes', 'no', 68.0],\n",
              "       [62.0, 'High', 'yes', 'yes', 69.0],\n",
              "       [78.0, 'High', 'yes', 'yes', 71.0],\n",
              "       [74.0, 'High', 'yes', 'yes', 75.0],\n",
              "       [75.0, 'High', 'no', 'yes', 72.0],\n",
              "       [56.0, 'High', 'yes', 'no', 76.0],\n",
              "       [80.0, 'High', 'no', 'yes', 92.0],\n",
              "       [82.0, 'High', 'yes', 'yes', 73.0],\n",
              "       [86.0, 'High', 'yes', 'yes', 71.0],\n",
              "       [90.0, 'High', 'yes', 'yes', 67.0],\n",
              "       [84.0, 'High', 'yes', 'yes', 75.0],\n",
              "       [86.0, 'High', 'no', 'yes', 76.0],\n",
              "       [61.0, 'Moderate', 'no', 'yes', 90.0],\n",
              "       [94.0, 'High', 'yes', 'yes', 64.0],\n",
              "       [81.0, 'High', 'yes', 'yes', 75.0],\n",
              "       [76.0, 'High', 'yes', 'yes', 80.0]], dtype=object)"
            ]
          },
          "execution_count": 5,
          "metadata": {},
          "output_type": "execute_result"
        }
      ],
      "source": [
        "X"
      ]
    },
    {
      "cell_type": "markdown",
      "metadata": {
        "id": "XaG0s7WjmgPU"
      },
      "source": [
        "\n",
        "\n",
        "\n",
        "## Handling Missing Data"
      ]
    },
    {
      "cell_type": "code",
      "execution_count": 1,
      "metadata": {},
      "outputs": [],
      "source": [
        "#%pip install scikit-learn"
      ]
    },
    {
      "cell_type": "code",
      "execution_count": 6,
      "metadata": {},
      "outputs": [],
      "source": [
        "from sklearn.impute import SimpleImputer\n",
        "imputer = SimpleImputer(missing_values=np.nan, strategy='mean')\n",
        "imputer.fit(X[: ,0:1])\n",
        "X[: ,0:1] = imputer.transform(X[: ,0:1])"
      ]
    },
    {
      "cell_type": "code",
      "execution_count": 9,
      "metadata": {},
      "outputs": [],
      "source": [
        "imputer.fit(X[: , 4:5])\n",
        "X[: , 4:5] = imputer.transform(X[: , 4:5])"
      ]
    },
    {
      "cell_type": "code",
      "execution_count": 10,
      "metadata": {},
      "outputs": [
        {
          "data": {
            "text/plain": [
              "array([[10.0, 'Normal', 'no', 'no', 97.0],\n",
              "       [12.0, 'Normal', 'no', 'no', 97.0],\n",
              "       [15.0, 'Normal', 'no', 'no', 94.0],\n",
              "       [10.0, 'Normal', 'no', 'no', 97.0],\n",
              "       [13.0, 'Moderate', 'no', 'no', 94.0],\n",
              "       [12.0, 'Moderate', 'no', 'no', 97.0],\n",
              "       [13.0, 'Moderate', 'no', 'no', 93.0],\n",
              "       [15.0, 'Moderate', 'no', 'no', 92.0],\n",
              "       [18.0, 'Moderate', 'no', 'no', 66.0],\n",
              "       [19.0, 'Normal', 'no', 'no', 92.0],\n",
              "       [20.0, 'Normal', 'no', 'no', 93.0],\n",
              "       [17.0, 'Normal', 'no', 'no', 93.0],\n",
              "       [16.0, 'Normal', 'no', 'no', 92.0],\n",
              "       [18.0, 'Normal', 'no', 'no', 93.0],\n",
              "       [20.0, 'Normal', 'no', 'no', 92.0],\n",
              "       [25.0, 'Moderate', 'no', 'no', 93.0],\n",
              "       [24.0, 'Moderate', 'no', 'no', 92.0],\n",
              "       [26.0, 'High', 'no', 'no', 94.0],\n",
              "       [28.0, 'Normal', 'no', 'no', 99.0],\n",
              "       [29.0, 'Normal', 'no', 'no', 93.0],\n",
              "       [30.0, 'Moderate', 'no', 'no', 62.0],\n",
              "       [19.0, 'Normal', 'no', 'no', 89.0],\n",
              "       [25.0, 'Normal', 'no', 'yes', 86.0],\n",
              "       [26.0, 'Normal', 'no', 'no', 82.07246376811594],\n",
              "       [28.0, 'Normal', 'no', 'no', 89.0],\n",
              "       [30.0, 'Moderate', 'yes', 'no', 86.0],\n",
              "       [35.0, 'Moderate', 'no', 'no', 89.0],\n",
              "       [32.0, 'Moderate', 'no', 'yes', 84.0],\n",
              "       [45.130434782608695, 'Moderate', 'yes', 'no', 90.0],\n",
              "       [32.0, 'Moderate', 'no', 'no', 89.0],\n",
              "       [35.0, 'Moderate', 'no', 'yes', 92.0],\n",
              "       [38.0, 'High', 'no', 'no', 75.0],\n",
              "       [40.0, 'Moderate', 'no', 'yes', 90.0],\n",
              "       [46.0, 'High', 'yes', 'no', 91.0],\n",
              "       [48.0, 'Moderate', 'no', 'yes', 93.0],\n",
              "       [42.0, 'High', 'no', 'no', 92.0],\n",
              "       [40.0, 'High', 'no', 'no', 92.0],\n",
              "       [49.0, 'Moderate', 'no', 'no', 80.0],\n",
              "       [50.0, 'High', 'yes', 'yes', 77.0],\n",
              "       [36.0, 'High', 'yes', 'no', 90.0],\n",
              "       [52.0, 'High', 'yes', 'yes', 80.0],\n",
              "       [56.0, 'High', 'yes', 'yes', 77.0],\n",
              "       [58.0, 'High', 'no', 'no', 70.0],\n",
              "       [59.0, 'High', 'no', 'yes', 69.0],\n",
              "       [60.0, 'High', 'yes', 'yes', 68.0],\n",
              "       [53.0, 'High', 'yes', 'no', 55.0],\n",
              "       [54.0, 'High', 'yes', 'yes', 70.0],\n",
              "       [62.0, 'High', 'yes', 'yes', 68.0],\n",
              "       [63.0, 'High', 'yes', 'yes', 66.0],\n",
              "       [68.0, 'High', 'yes', 'no', 67.0],\n",
              "       [69.0, 'High', 'no', 'yes', 53.0],\n",
              "       [64.0, 'High', 'yes', 'yes', 73.0],\n",
              "       [61.0, 'High', 'yes', 'yes', 76.0],\n",
              "       [70.0, 'Normal', 'no', 'yes', 88.0],\n",
              "       [59.0, 'High', 'yes', 'no', 68.0],\n",
              "       [62.0, 'High', 'yes', 'yes', 69.0],\n",
              "       [78.0, 'High', 'yes', 'yes', 71.0],\n",
              "       [74.0, 'High', 'yes', 'yes', 75.0],\n",
              "       [75.0, 'High', 'no', 'yes', 72.0],\n",
              "       [56.0, 'High', 'yes', 'no', 76.0],\n",
              "       [80.0, 'High', 'no', 'yes', 92.0],\n",
              "       [82.0, 'High', 'yes', 'yes', 73.0],\n",
              "       [86.0, 'High', 'yes', 'yes', 71.0],\n",
              "       [90.0, 'High', 'yes', 'yes', 67.0],\n",
              "       [84.0, 'High', 'yes', 'yes', 75.0],\n",
              "       [86.0, 'High', 'no', 'yes', 76.0],\n",
              "       [61.0, 'Moderate', 'no', 'yes', 90.0],\n",
              "       [94.0, 'High', 'yes', 'yes', 64.0],\n",
              "       [81.0, 'High', 'yes', 'yes', 75.0],\n",
              "       [76.0, 'High', 'yes', 'yes', 80.0]], dtype=object)"
            ]
          },
          "execution_count": 10,
          "metadata": {},
          "output_type": "execute_result"
        }
      ],
      "source": [
        "X"
      ]
    },
    {
      "cell_type": "markdown",
      "metadata": {
        "id": "o0syRbsSmkoe"
      },
      "source": [
        "## Encoding Categorical Data"
      ]
    },
    {
      "cell_type": "markdown",
      "metadata": {
        "id": "alHfpomamsVr"
      },
      "source": [
        "### Encoding independent variables"
      ]
    },
    {
      "cell_type": "code",
      "execution_count": 11,
      "metadata": {},
      "outputs": [],
      "source": [
        "from sklearn.compose import ColumnTransformer\n",
        "from sklearn.preprocessing import OneHotEncoder"
      ]
    },
    {
      "cell_type": "code",
      "execution_count": 14,
      "metadata": {},
      "outputs": [],
      "source": [
        "ct = ColumnTransformer(transformers=[('encoder', OneHotEncoder(), [1])], remainder='passthrough')\n",
        "X = np.array(ct.fit_transform(X))"
      ]
    },
    {
      "cell_type": "code",
      "execution_count": 15,
      "metadata": {},
      "outputs": [
        {
          "data": {
            "text/plain": [
              "array([[0.0, 0.0, 1.0, 10.0, 'no', 'no', 97.0],\n",
              "       [0.0, 0.0, 1.0, 12.0, 'no', 'no', 97.0],\n",
              "       [0.0, 0.0, 1.0, 15.0, 'no', 'no', 94.0],\n",
              "       [0.0, 0.0, 1.0, 10.0, 'no', 'no', 97.0],\n",
              "       [0.0, 1.0, 0.0, 13.0, 'no', 'no', 94.0],\n",
              "       [0.0, 1.0, 0.0, 12.0, 'no', 'no', 97.0],\n",
              "       [0.0, 1.0, 0.0, 13.0, 'no', 'no', 93.0],\n",
              "       [0.0, 1.0, 0.0, 15.0, 'no', 'no', 92.0],\n",
              "       [0.0, 1.0, 0.0, 18.0, 'no', 'no', 66.0],\n",
              "       [0.0, 0.0, 1.0, 19.0, 'no', 'no', 92.0],\n",
              "       [0.0, 0.0, 1.0, 20.0, 'no', 'no', 93.0],\n",
              "       [0.0, 0.0, 1.0, 17.0, 'no', 'no', 93.0],\n",
              "       [0.0, 0.0, 1.0, 16.0, 'no', 'no', 92.0],\n",
              "       [0.0, 0.0, 1.0, 18.0, 'no', 'no', 93.0],\n",
              "       [0.0, 0.0, 1.0, 20.0, 'no', 'no', 92.0],\n",
              "       [0.0, 1.0, 0.0, 25.0, 'no', 'no', 93.0],\n",
              "       [0.0, 1.0, 0.0, 24.0, 'no', 'no', 92.0],\n",
              "       [1.0, 0.0, 0.0, 26.0, 'no', 'no', 94.0],\n",
              "       [0.0, 0.0, 1.0, 28.0, 'no', 'no', 99.0],\n",
              "       [0.0, 0.0, 1.0, 29.0, 'no', 'no', 93.0],\n",
              "       [0.0, 1.0, 0.0, 30.0, 'no', 'no', 62.0],\n",
              "       [0.0, 0.0, 1.0, 19.0, 'no', 'no', 89.0],\n",
              "       [0.0, 0.0, 1.0, 25.0, 'no', 'yes', 86.0],\n",
              "       [0.0, 0.0, 1.0, 26.0, 'no', 'no', 82.07246376811594],\n",
              "       [0.0, 0.0, 1.0, 28.0, 'no', 'no', 89.0],\n",
              "       [0.0, 1.0, 0.0, 30.0, 'yes', 'no', 86.0],\n",
              "       [0.0, 1.0, 0.0, 35.0, 'no', 'no', 89.0],\n",
              "       [0.0, 1.0, 0.0, 32.0, 'no', 'yes', 84.0],\n",
              "       [0.0, 1.0, 0.0, 45.130434782608695, 'yes', 'no', 90.0],\n",
              "       [0.0, 1.0, 0.0, 32.0, 'no', 'no', 89.0],\n",
              "       [0.0, 1.0, 0.0, 35.0, 'no', 'yes', 92.0],\n",
              "       [1.0, 0.0, 0.0, 38.0, 'no', 'no', 75.0],\n",
              "       [0.0, 1.0, 0.0, 40.0, 'no', 'yes', 90.0],\n",
              "       [1.0, 0.0, 0.0, 46.0, 'yes', 'no', 91.0],\n",
              "       [0.0, 1.0, 0.0, 48.0, 'no', 'yes', 93.0],\n",
              "       [1.0, 0.0, 0.0, 42.0, 'no', 'no', 92.0],\n",
              "       [1.0, 0.0, 0.0, 40.0, 'no', 'no', 92.0],\n",
              "       [0.0, 1.0, 0.0, 49.0, 'no', 'no', 80.0],\n",
              "       [1.0, 0.0, 0.0, 50.0, 'yes', 'yes', 77.0],\n",
              "       [1.0, 0.0, 0.0, 36.0, 'yes', 'no', 90.0],\n",
              "       [1.0, 0.0, 0.0, 52.0, 'yes', 'yes', 80.0],\n",
              "       [1.0, 0.0, 0.0, 56.0, 'yes', 'yes', 77.0],\n",
              "       [1.0, 0.0, 0.0, 58.0, 'no', 'no', 70.0],\n",
              "       [1.0, 0.0, 0.0, 59.0, 'no', 'yes', 69.0],\n",
              "       [1.0, 0.0, 0.0, 60.0, 'yes', 'yes', 68.0],\n",
              "       [1.0, 0.0, 0.0, 53.0, 'yes', 'no', 55.0],\n",
              "       [1.0, 0.0, 0.0, 54.0, 'yes', 'yes', 70.0],\n",
              "       [1.0, 0.0, 0.0, 62.0, 'yes', 'yes', 68.0],\n",
              "       [1.0, 0.0, 0.0, 63.0, 'yes', 'yes', 66.0],\n",
              "       [1.0, 0.0, 0.0, 68.0, 'yes', 'no', 67.0],\n",
              "       [1.0, 0.0, 0.0, 69.0, 'no', 'yes', 53.0],\n",
              "       [1.0, 0.0, 0.0, 64.0, 'yes', 'yes', 73.0],\n",
              "       [1.0, 0.0, 0.0, 61.0, 'yes', 'yes', 76.0],\n",
              "       [0.0, 0.0, 1.0, 70.0, 'no', 'yes', 88.0],\n",
              "       [1.0, 0.0, 0.0, 59.0, 'yes', 'no', 68.0],\n",
              "       [1.0, 0.0, 0.0, 62.0, 'yes', 'yes', 69.0],\n",
              "       [1.0, 0.0, 0.0, 78.0, 'yes', 'yes', 71.0],\n",
              "       [1.0, 0.0, 0.0, 74.0, 'yes', 'yes', 75.0],\n",
              "       [1.0, 0.0, 0.0, 75.0, 'no', 'yes', 72.0],\n",
              "       [1.0, 0.0, 0.0, 56.0, 'yes', 'no', 76.0],\n",
              "       [1.0, 0.0, 0.0, 80.0, 'no', 'yes', 92.0],\n",
              "       [1.0, 0.0, 0.0, 82.0, 'yes', 'yes', 73.0],\n",
              "       [1.0, 0.0, 0.0, 86.0, 'yes', 'yes', 71.0],\n",
              "       [1.0, 0.0, 0.0, 90.0, 'yes', 'yes', 67.0],\n",
              "       [1.0, 0.0, 0.0, 84.0, 'yes', 'yes', 75.0],\n",
              "       [1.0, 0.0, 0.0, 86.0, 'no', 'yes', 76.0],\n",
              "       [0.0, 1.0, 0.0, 61.0, 'no', 'yes', 90.0],\n",
              "       [1.0, 0.0, 0.0, 94.0, 'yes', 'yes', 64.0],\n",
              "       [1.0, 0.0, 0.0, 81.0, 'yes', 'yes', 75.0],\n",
              "       [1.0, 0.0, 0.0, 76.0, 'yes', 'yes', 80.0]], dtype=object)"
            ]
          },
          "execution_count": 15,
          "metadata": {},
          "output_type": "execute_result"
        }
      ],
      "source": [
        "X"
      ]
    },
    {
      "cell_type": "markdown",
      "metadata": {
        "id": "VEJCi9Fgmz-n"
      },
      "source": [
        "### Encoding dependent variables"
      ]
    },
    {
      "cell_type": "code",
      "execution_count": null,
      "metadata": {},
      "outputs": [],
      "source": []
    },
    {
      "cell_type": "markdown",
      "metadata": {
        "id": "Bfz9vcDsm7r6"
      },
      "source": [
        "## Splitting data into Test set & Training Set\n"
      ]
    },
    {
      "cell_type": "markdown",
      "metadata": {
        "id": "a5uoHf8MsQG0"
      },
      "source": [
        "## Feature Scaling"
      ]
    }
  ],
  "metadata": {
    "colab": {
      "provenance": [],
      "toc_visible": true
    },
    "kernelspec": {
      "display_name": "Python 3",
      "name": "python3"
    },
    "language_info": {
      "codemirror_mode": {
        "name": "ipython",
        "version": 3
      },
      "file_extension": ".py",
      "mimetype": "text/x-python",
      "name": "python",
      "nbconvert_exporter": "python",
      "pygments_lexer": "ipython3",
      "version": "3.13.0"
    }
  },
  "nbformat": 4,
  "nbformat_minor": 0
}
